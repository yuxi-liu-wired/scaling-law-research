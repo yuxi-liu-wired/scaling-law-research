{
 "cells": [
  {
   "cell_type": "code",
   "execution_count": 14,
   "id": "90a99978-85e1-4ab1-a9fd-204d891dc8ff",
   "metadata": {},
   "outputs": [],
   "source": [
    "import re\n",
    "\n",
    "def process_dataset(file_path):\n",
    "    with open(file_path, 'r', encoding='utf-8') as file:\n",
    "        lines = file.readlines()\n",
    "    allowed_chars = set(\"abcdefghijklmnopqrstuvwxyz .,\")\n",
    "    long_text = ''.join(lines)\n",
    "    long_text = ''.join([char.lower() for char in long_text if char.lower() in allowed_chars])\n",
    "    long_text = re.sub(r\"\\s+\", \" \", long_text)\n",
    "    return long_text"
   ]
  },
  {
   "cell_type": "code",
   "execution_count": 17,
   "id": "1482c173-64bf-43f6-811d-c93ea6e890d8",
   "metadata": {},
   "outputs": [
    {
     "name": "stdout",
     "output_type": "stream",
     "text": [
      " homarus gammarus homarus gammarus , known as the european lobster or common lobster , is a species of clawed lobster from the eastern atlantic ocean , mediterranean sea and parts of the black sea . it is closely related to the american lobster , h. americanus . it may grow to a length of cm in and a mass of kilograms lb , and bears a conspicuous pair of claws . in life , the lobsters are blue , only becoming lobster red on cooking . mating occurs in the summer , producing eggs which are carried by the females for up to a year before hatching into planktonic larvae . homarus gammarus is a highly esteemed food , and is widely caught using lobster pots , mostly around the british isles . description homarus gammarus is a large crustacean , with a body length up to centimetres in and weighing up to kilograms lb , although the lobsters caught in lobster pots are usually cm in long and weigh . . kg . . lb . like other crustaceans , lobsters have a hard exoskeleton which they must shed in or\n"
     ]
    }
   ],
   "source": [
    "file_path = 'wiki.valid.raw'\n",
    "output = process_dataset(file_path)\n",
    "print(output[:1000])"
   ]
  },
  {
   "cell_type": "code",
   "execution_count": 19,
   "id": "231f39e3-76d6-47a9-92b7-4ffdcb1f6828",
   "metadata": {},
   "outputs": [],
   "source": [
    "for item in [\"train\", \"valid\", \"test\"]:\n",
    "    output = process_dataset(f'wiki.{item}.raw')\n",
    "    with open(f'wiki_shannonfied.{item}.txt', 'w', encoding='utf-8') as file:\n",
    "        file.write(output)"
   ]
  },
  {
   "cell_type": "code",
   "execution_count": null,
   "id": "595d81b5-02ee-4845-bcd3-a83c859bc888",
   "metadata": {},
   "outputs": [],
   "source": []
  },
  {
   "cell_type": "code",
   "execution_count": null,
   "id": "a4d4c1f0-ab69-42db-8489-431d20f2ca4f",
   "metadata": {},
   "outputs": [],
   "source": []
  }
 ],
 "metadata": {
  "kernelspec": {
   "display_name": "Python 3 (ipykernel)",
   "language": "python",
   "name": "python3"
  },
  "language_info": {
   "codemirror_mode": {
    "name": "ipython",
    "version": 3
   },
   "file_extension": ".py",
   "mimetype": "text/x-python",
   "name": "python",
   "nbconvert_exporter": "python",
   "pygments_lexer": "ipython3",
   "version": "3.10.13"
  }
 },
 "nbformat": 4,
 "nbformat_minor": 5
}
